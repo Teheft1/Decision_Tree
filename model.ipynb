{
 "cells": [
  {
   "cell_type": "code",
   "execution_count": 181,
   "metadata": {},
   "outputs": [],
   "source": [
    "import csv\n",
    "import collections\n",
    "import pandas as pd\n",
    "import numpy as np\n",
    "\n",
    "\n",
    "import matplotlib.pyplot as plt\n",
    "import seaborn as sns\n",
    "%matplotlib inline\n",
    "\n",
    "import random\n",
    "from pprint import pprint\n",
    "global FEATURE_TYPES\n"
   ]
  },
  {
   "cell_type": "code",
   "execution_count": 182,
   "metadata": {},
   "outputs": [],
   "source": [
    "df = pd.read_csv('Job_Placement_Data.csv')\n",
    "# df = df.drop(\"ssc_board\", axis=1)\n",
    "# df = df.drop(\"hsc_board\", axis=1)\n",
    "# df = df.drop(\"ssc_percentage\",axis=1)\n",
    "# df = df.drop([\"hsc_percentage\",\"hsc_subject\",\"degree_percentage\", \"undergrad_degree\"], axis=1)"
   ]
  },
  {
   "cell_type": "code",
   "execution_count": 183,
   "metadata": {},
   "outputs": [
    {
     "data": {
      "text/html": [
       "<div>\n",
       "<style scoped>\n",
       "    .dataframe tbody tr th:only-of-type {\n",
       "        vertical-align: middle;\n",
       "    }\n",
       "\n",
       "    .dataframe tbody tr th {\n",
       "        vertical-align: top;\n",
       "    }\n",
       "\n",
       "    .dataframe thead th {\n",
       "        text-align: right;\n",
       "    }\n",
       "</style>\n",
       "<table border=\"1\" class=\"dataframe\">\n",
       "  <thead>\n",
       "    <tr style=\"text-align: right;\">\n",
       "      <th></th>\n",
       "      <th>gender</th>\n",
       "      <th>ssc_percentage</th>\n",
       "      <th>ssc_board</th>\n",
       "      <th>hsc_percentage</th>\n",
       "      <th>hsc_board</th>\n",
       "      <th>hsc_subject</th>\n",
       "      <th>degree_percentage</th>\n",
       "      <th>undergrad_degree</th>\n",
       "      <th>work_experience</th>\n",
       "      <th>emp_test_percentage</th>\n",
       "      <th>specialisation</th>\n",
       "      <th>mba_percent</th>\n",
       "      <th>status</th>\n",
       "    </tr>\n",
       "  </thead>\n",
       "  <tbody>\n",
       "    <tr>\n",
       "      <th>0</th>\n",
       "      <td>M</td>\n",
       "      <td>67.00</td>\n",
       "      <td>Others</td>\n",
       "      <td>91.00</td>\n",
       "      <td>Others</td>\n",
       "      <td>Commerce</td>\n",
       "      <td>58.00</td>\n",
       "      <td>Sci&amp;Tech</td>\n",
       "      <td>No</td>\n",
       "      <td>55.0</td>\n",
       "      <td>Mkt&amp;HR</td>\n",
       "      <td>58.80</td>\n",
       "      <td>Placed</td>\n",
       "    </tr>\n",
       "    <tr>\n",
       "      <th>1</th>\n",
       "      <td>M</td>\n",
       "      <td>79.33</td>\n",
       "      <td>Central</td>\n",
       "      <td>78.33</td>\n",
       "      <td>Others</td>\n",
       "      <td>Science</td>\n",
       "      <td>77.48</td>\n",
       "      <td>Sci&amp;Tech</td>\n",
       "      <td>Yes</td>\n",
       "      <td>86.5</td>\n",
       "      <td>Mkt&amp;Fin</td>\n",
       "      <td>66.28</td>\n",
       "      <td>Placed</td>\n",
       "    </tr>\n",
       "    <tr>\n",
       "      <th>2</th>\n",
       "      <td>M</td>\n",
       "      <td>65.00</td>\n",
       "      <td>Central</td>\n",
       "      <td>68.00</td>\n",
       "      <td>Central</td>\n",
       "      <td>Arts</td>\n",
       "      <td>64.00</td>\n",
       "      <td>Comm&amp;Mgmt</td>\n",
       "      <td>No</td>\n",
       "      <td>75.0</td>\n",
       "      <td>Mkt&amp;Fin</td>\n",
       "      <td>57.80</td>\n",
       "      <td>Placed</td>\n",
       "    </tr>\n",
       "    <tr>\n",
       "      <th>3</th>\n",
       "      <td>M</td>\n",
       "      <td>56.00</td>\n",
       "      <td>Central</td>\n",
       "      <td>52.00</td>\n",
       "      <td>Central</td>\n",
       "      <td>Science</td>\n",
       "      <td>52.00</td>\n",
       "      <td>Sci&amp;Tech</td>\n",
       "      <td>No</td>\n",
       "      <td>66.0</td>\n",
       "      <td>Mkt&amp;HR</td>\n",
       "      <td>59.43</td>\n",
       "      <td>Not Placed</td>\n",
       "    </tr>\n",
       "    <tr>\n",
       "      <th>4</th>\n",
       "      <td>M</td>\n",
       "      <td>85.80</td>\n",
       "      <td>Central</td>\n",
       "      <td>73.60</td>\n",
       "      <td>Central</td>\n",
       "      <td>Commerce</td>\n",
       "      <td>73.30</td>\n",
       "      <td>Comm&amp;Mgmt</td>\n",
       "      <td>No</td>\n",
       "      <td>96.8</td>\n",
       "      <td>Mkt&amp;Fin</td>\n",
       "      <td>55.50</td>\n",
       "      <td>Placed</td>\n",
       "    </tr>\n",
       "  </tbody>\n",
       "</table>\n",
       "</div>"
      ],
      "text/plain": [
       "  gender  ssc_percentage ssc_board  hsc_percentage hsc_board hsc_subject  \\\n",
       "0      M           67.00    Others           91.00    Others    Commerce   \n",
       "1      M           79.33   Central           78.33    Others     Science   \n",
       "2      M           65.00   Central           68.00   Central        Arts   \n",
       "3      M           56.00   Central           52.00   Central     Science   \n",
       "4      M           85.80   Central           73.60   Central    Commerce   \n",
       "\n",
       "   degree_percentage undergrad_degree work_experience  emp_test_percentage  \\\n",
       "0              58.00         Sci&Tech              No                 55.0   \n",
       "1              77.48         Sci&Tech             Yes                 86.5   \n",
       "2              64.00        Comm&Mgmt              No                 75.0   \n",
       "3              52.00         Sci&Tech              No                 66.0   \n",
       "4              73.30        Comm&Mgmt              No                 96.8   \n",
       "\n",
       "  specialisation  mba_percent      status  \n",
       "0         Mkt&HR        58.80      Placed  \n",
       "1        Mkt&Fin        66.28      Placed  \n",
       "2        Mkt&Fin        57.80      Placed  \n",
       "3         Mkt&HR        59.43  Not Placed  \n",
       "4        Mkt&Fin        55.50      Placed  "
      ]
     },
     "execution_count": 183,
     "metadata": {},
     "output_type": "execute_result"
    }
   ],
   "source": [
    "df.head()"
   ]
  },
  {
   "cell_type": "code",
   "execution_count": 184,
   "metadata": {},
   "outputs": [
    {
     "name": "stdout",
     "output_type": "stream",
     "text": [
      "<class 'pandas.core.frame.DataFrame'>\n",
      "RangeIndex: 215 entries, 0 to 214\n",
      "Data columns (total 13 columns):\n",
      " #   Column               Non-Null Count  Dtype  \n",
      "---  ------               --------------  -----  \n",
      " 0   gender               215 non-null    object \n",
      " 1   ssc_percentage       215 non-null    float64\n",
      " 2   ssc_board            215 non-null    object \n",
      " 3   hsc_percentage       215 non-null    float64\n",
      " 4   hsc_board            215 non-null    object \n",
      " 5   hsc_subject          215 non-null    object \n",
      " 6   degree_percentage    215 non-null    float64\n",
      " 7   undergrad_degree     215 non-null    object \n",
      " 8   work_experience      215 non-null    object \n",
      " 9   emp_test_percentage  215 non-null    float64\n",
      " 10  specialisation       215 non-null    object \n",
      " 11  mba_percent          215 non-null    float64\n",
      " 12  status               215 non-null    object \n",
      "dtypes: float64(5), object(8)\n",
      "memory usage: 22.0+ KB\n"
     ]
    }
   ],
   "source": [
    "df.info()"
   ]
  },
  {
   "cell_type": "markdown",
   "metadata": {},
   "source": [
    "# Train Test Split"
   ]
  },
  {
   "cell_type": "code",
   "execution_count": 185,
   "metadata": {},
   "outputs": [],
   "source": [
    "def train_test_split(df, test_size):\n",
    "    if isinstance(test_size,float):\n",
    "        test_size = round(test_size*len(df))\n",
    "\n",
    "    indices = df.index.tolist()\n",
    "    test_indices = random.sample(population = indices, k=test_size)\n",
    "\n",
    "    test_df = df.loc[test_indices]\n",
    "    train_df = df.drop(test_indices)\n",
    "\n",
    "    return train_df, test_df"
   ]
  },
  {
   "cell_type": "code",
   "execution_count": 186,
   "metadata": {},
   "outputs": [],
   "source": [
    "random.seed(0)\n",
    "train_df, test_df = train_test_split(df, test_size = 0.1)"
   ]
  },
  {
   "cell_type": "markdown",
   "metadata": {},
   "source": [
    "# Helper Functions"
   ]
  },
  {
   "cell_type": "code",
   "execution_count": 187,
   "metadata": {},
   "outputs": [
    {
     "data": {
      "text/plain": [
       "array([['M', 67.0, 'Others', 91.0, 'Others', 'Commerce', 58.0,\n",
       "        'Sci&Tech', 'No', 55.0, 'Mkt&HR', 58.8, 'Placed'],\n",
       "       ['M', 79.33, 'Central', 78.33, 'Others', 'Science', 77.48,\n",
       "        'Sci&Tech', 'Yes', 86.5, 'Mkt&Fin', 66.28, 'Placed'],\n",
       "       ['M', 65.0, 'Central', 68.0, 'Central', 'Arts', 64.0, 'Comm&Mgmt',\n",
       "        'No', 75.0, 'Mkt&Fin', 57.8, 'Placed'],\n",
       "       ['M', 56.0, 'Central', 52.0, 'Central', 'Science', 52.0,\n",
       "        'Sci&Tech', 'No', 66.0, 'Mkt&HR', 59.43, 'Not Placed'],\n",
       "       ['M', 85.8, 'Central', 73.6, 'Central', 'Commerce', 73.3,\n",
       "        'Comm&Mgmt', 'No', 96.8, 'Mkt&Fin', 55.5, 'Placed']], dtype=object)"
      ]
     },
     "execution_count": 187,
     "metadata": {},
     "output_type": "execute_result"
    }
   ],
   "source": [
    "data  = train_df.values\n",
    "data[:5]"
   ]
  },
  {
   "cell_type": "markdown",
   "metadata": {},
   "source": [
    "### Data Pure?"
   ]
  },
  {
   "cell_type": "code",
   "execution_count": 188,
   "metadata": {},
   "outputs": [],
   "source": [
    "def purity_check(data):\n",
    "    label_column = data[:, -1]\n",
    "    unique_classes = np.unique(label_column)\n",
    "\n",
    "    if len(unique_classes) == 1:\n",
    "        return True\n",
    "    else:\n",
    "        return False"
   ]
  },
  {
   "cell_type": "markdown",
   "metadata": {},
   "source": []
  },
  {
   "cell_type": "markdown",
   "metadata": {},
   "source": [
    "### Classify"
   ]
  },
  {
   "cell_type": "code",
   "execution_count": 189,
   "metadata": {},
   "outputs": [],
   "source": [
    "def node_leaf(data):\n",
    "    label_column = data[:, -1]\n",
    "    unique_classes, counts_unique_classes = np.unique(label_column, return_counts=True)\n",
    "\n",
    "    index = counts_unique_classes.argmax()\n",
    "    leaf = unique_classes[index]\n",
    "\n",
    "    return leaf"
   ]
  },
  {
   "cell_type": "markdown",
   "metadata": {},
   "source": [
    "### Potential Splits?"
   ]
  },
  {
   "cell_type": "code",
   "execution_count": 190,
   "metadata": {},
   "outputs": [],
   "source": [
    "def get_potential_splits(data):\n",
    "    potential_splits = {}\n",
    "    _,n_columns = data.shape\n",
    "    for column_index in range(n_columns - 1):\n",
    "        values = data[:, column_index]\n",
    "        unique_values = np.unique(values)\n",
    "\n",
    "        potential_splits[column_index] = unique_values\n",
    "    return potential_splits"
   ]
  },
  {
   "cell_type": "markdown",
   "metadata": {},
   "source": [
    "### split data"
   ]
  },
  {
   "cell_type": "code",
   "execution_count": 191,
   "metadata": {},
   "outputs": [],
   "source": [
    "def split_data(data, split_columns, split_values):\n",
    "    split_column_values = data[:, split_columns]\n",
    "\n",
    "    type_of_feature = FEATURE_TYPES[split_columns]\n",
    "    if type_of_feature == \"continous\":\n",
    "        data_below = data[split_column_values <= split_values]\n",
    "        data_above = data[split_column_values > split_values]\n",
    "    else:\n",
    "        data_below = data[split_column_values == split_values]\n",
    "        data_above = data[split_column_values != split_values]\n",
    "    \n",
    "    return data_below, data_above"
   ]
  },
  {
   "cell_type": "markdown",
   "metadata": {},
   "source": [
    "### Lowest Overall Entropy "
   ]
  },
  {
   "cell_type": "code",
   "execution_count": 192,
   "metadata": {},
   "outputs": [],
   "source": [
    "def calculate_entropy(data):\n",
    "    label_columns = data[:, -1]\n",
    "    _, counts = np.unique(label_columns, return_counts=True)\n",
    "\n",
    "    probabilities = counts / counts.sum()\n",
    "    entropy = sum(probabilities * -np.log2(probabilities))\n",
    "\n",
    "    return entropy"
   ]
  },
  {
   "cell_type": "code",
   "execution_count": 193,
   "metadata": {},
   "outputs": [],
   "source": [
    "def calculate_overall_entropy(data_below, data_above):\n",
    "    n = len(data_below) + len(data_above)\n",
    "    p_data_below = len(data_below) / n\n",
    "    p_data_above = len(data_above) / n\n",
    "\n",
    "    overall_entropy = (p_data_below * calculate_entropy(data_below)\n",
    "                       + p_data_above * calculate_entropy(data_above))\n",
    "    \n",
    "    return overall_entropy"
   ]
  },
  {
   "cell_type": "code",
   "execution_count": 194,
   "metadata": {},
   "outputs": [],
   "source": [
    "def determine_best_split(data, potential_splits):\n",
    "    overall_entropy = 9999\n",
    "    for column_index in potential_splits:\n",
    "        for value in potential_splits[column_index]:\n",
    "            data_below, data_above = split_data(data, split_columns=column_index, split_values=value)\n",
    "            current_overall_entropy = calculate_overall_entropy(data_below, data_above)\n",
    "\n",
    "            if current_overall_entropy <= overall_entropy:\n",
    "                overall_entropy = current_overall_entropy\n",
    "                best_split_column = column_index\n",
    "                best_split_value = value\n",
    "        \n",
    "    return best_split_column, best_split_value"
   ]
  },
  {
   "cell_type": "markdown",
   "metadata": {},
   "source": [
    "# Decision Tree Algorithm"
   ]
  },
  {
   "cell_type": "markdown",
   "metadata": {},
   "source": [
    "### Determine Type of Feature"
   ]
  },
  {
   "cell_type": "code",
   "execution_count": 195,
   "metadata": {},
   "outputs": [],
   "source": [
    "def determine_type_of_feature(df):\n",
    "    \n",
    "    feature_types = []\n",
    "    n_unique_values_treshold = 15\n",
    "    for feature in df.columns:\n",
    "        if feature != \"label\":\n",
    "            unique_values = df[feature].unique()\n",
    "            example_value = unique_values[0]\n",
    "\n",
    "            if (isinstance(example_value, str)) or (len(unique_values) <= n_unique_values_treshold):\n",
    "                feature_types.append(\"categorical\")\n",
    "            else:\n",
    "                feature_types.append(\"continuous\")\n",
    "        \n",
    "    return feature_types"
   ]
  },
  {
   "cell_type": "markdown",
   "metadata": {},
   "source": [
    "### Algorihtm"
   ]
  },
  {
   "cell_type": "code",
   "execution_count": 196,
   "metadata": {},
   "outputs": [],
   "source": [
    "def decision_tree_algorithm(df, counter=0, min_samples=2, max_depth=5):\n",
    "    \n",
    "    # data preparations\n",
    "    if counter == 0:\n",
    "        global COLUMN_HEADERS, FEATURE_TYPES\n",
    "        COLUMN_HEADERS = df.columns\n",
    "        FEATURE_TYPES = determine_type_of_feature(df)\n",
    "        data = df.values\n",
    "    else:\n",
    "        data = df           \n",
    "        \n",
    "        \n",
    "    # base cases\n",
    "    if (purity_check(data)) or (len(data) < min_samples) or (counter == max_depth):\n",
    "        leaf = node_leaf(data)\n",
    "            \n",
    "        return leaf\n",
    "\n",
    "        \n",
    "    # recursive part\n",
    "    else:    \n",
    "        counter += 1\n",
    "\n",
    "        # helper functions \n",
    "        potential_splits = get_potential_splits(data)\n",
    "        split_columns, split_values = determine_best_split(data, potential_splits)\n",
    "        data_below, data_above = split_data(data, split_columns, split_values)\n",
    "            \n",
    "        # check for empty data\n",
    "        if len(data_below) == 0 or len(data_above) == 0:\n",
    "            leaf = node_leaf(data)\n",
    "            return leaf\n",
    "            \n",
    "        # determine question\n",
    "        feature_name = COLUMN_HEADERS[split_columns]\n",
    "        type_of_feature = FEATURE_TYPES[split_columns]\n",
    "        if type_of_feature == \"continuous\":\n",
    "            question = \"{} <= {}\".format(feature_name, split_values)\n",
    "                \n",
    "        # feature is categorical\n",
    "        else:\n",
    "            question = \"{} = {}\".format(feature_name, split_values)\n",
    "            \n",
    "        # instantiate sub-tree\n",
    "        sub_tree = {question: []}\n",
    "            \n",
    "        # find answers (recursion)\n",
    "        yes_answer = decision_tree_algorithm(data_below, counter, min_samples, max_depth)\n",
    "        no_answer = decision_tree_algorithm(data_above, counter, min_samples, max_depth)\n",
    "            \n",
    "        # If the answers are the same, then there is no point in asking the qestion.\n",
    "        # This could happen when the data is classified even though it is not pure\n",
    "        # yet (min_samples or max_depth base case).\n",
    "        if yes_answer == no_answer:\n",
    "            sub_tree = yes_answer\n",
    "        else:\n",
    "            sub_tree[question].append(yes_answer)\n",
    "            sub_tree[question].append(no_answer)\n",
    "            \n",
    "        return sub_tree"
   ]
  },
  {
   "cell_type": "code",
   "execution_count": 197,
   "metadata": {},
   "outputs": [
    {
     "name": "stdout",
     "output_type": "stream",
     "text": [
      "{'work_experience = Yes': [{'ssc_percentage <= 52.0': ['Not Placed',\n",
      "                                                       {'degree_percentage <= 58.0': [{'mba_percent <= 61.3': ['Placed',\n",
      "                                                                                                               'Not '\n",
      "                                                                                                               'Placed']},\n",
      "                                                                                      {'ssc_board = Others': [{'mba_percent <= 75.71': ['Not '\n",
      "                                                                                                                                        'Placed',\n",
      "                                                                                                                                        'Placed']},\n",
      "                                                                                                              'Placed']}]}]},\n",
      "                           {'hsc_percentage <= 64.0': ['Not Placed',\n",
      "                                                       {'hsc_percentage <= 47.0': ['Not '\n",
      "                                                                                   'Placed',\n",
      "                                                                                   {'ssc_percentage <= 52.0': ['Not '\n",
      "                                                                                                               'Placed',\n",
      "                                                                                                               {'degree_percentage <= 60.0': ['Not '\n",
      "                                                                                                                                              'Placed',\n",
      "                                                                                                                                              'Placed']}]}]}]}]}\n"
     ]
    }
   ],
   "source": [
    "tree = decision_tree_algorithm(train_df, max_depth=5)\n",
    "pprint(tree,width=75)"
   ]
  },
  {
   "cell_type": "markdown",
   "metadata": {},
   "source": [
    "## classification"
   ]
  },
  {
   "cell_type": "code",
   "execution_count": 198,
   "metadata": {},
   "outputs": [
    {
     "data": {
      "text/plain": [
       "gender                         M\n",
       "ssc_percentage              83.0\n",
       "ssc_board                 Others\n",
       "hsc_percentage              74.0\n",
       "hsc_board                 Others\n",
       "hsc_subject              Science\n",
       "degree_percentage           66.0\n",
       "undergrad_degree       Comm&Mgmt\n",
       "work_experience               No\n",
       "emp_test_percentage        68.92\n",
       "specialisation            Mkt&HR\n",
       "mba_percent                58.46\n",
       "status                    Placed\n",
       "Name: 66, dtype: object"
      ]
     },
     "execution_count": 198,
     "metadata": {},
     "output_type": "execute_result"
    }
   ],
   "source": [
    "example = test_df.iloc[4]\n",
    "example"
   ]
  },
  {
   "cell_type": "code",
   "execution_count": 199,
   "metadata": {},
   "outputs": [],
   "source": [
    "def classify_example(example, tree):\n",
    "    question = list(tree.keys())[0]\n",
    "    feature_name, comparison_operator, value = question.split(\" \")\n",
    "\n",
    "    # ask question\n",
    "    if comparison_operator == \"<=\":  # feature is continuous\n",
    "        if example[feature_name] <= float(value):\n",
    "            answer = tree[question][0]\n",
    "        else:\n",
    "            answer = tree[question][1]\n",
    "        \n",
    "    # feature is categorical\n",
    "    else:\n",
    "        if str(example[feature_name]) == value:\n",
    "            answer = tree[question][0]\n",
    "        else:\n",
    "            answer = tree[question][1]\n",
    "\n",
    "    # base case\n",
    "    if not isinstance(answer, dict):\n",
    "        return answer\n",
    "        \n",
    "    # recursive part\n",
    "    else:\n",
    "        residual_tree = answer\n",
    "        return classify_example(example, residual_tree)"
   ]
  },
  {
   "cell_type": "code",
   "execution_count": 200,
   "metadata": {},
   "outputs": [
    {
     "data": {
      "text/plain": [
       "'Placed'"
      ]
     },
     "execution_count": 200,
     "metadata": {},
     "output_type": "execute_result"
    }
   ],
   "source": [
    "classify_example(example, tree)"
   ]
  },
  {
   "cell_type": "markdown",
   "metadata": {},
   "source": [
    "# Calculate Accuracy"
   ]
  },
  {
   "cell_type": "code",
   "execution_count": 201,
   "metadata": {},
   "outputs": [],
   "source": [
    "def calculate_accuracy(df, tree):\n",
    "\n",
    "    df[\"classification\"] = df.apply(classify_example, axis=1, args=(tree,))\n",
    "    df[\"classification_correct\"] = df[\"classification\"] == df[\"status\"]\n",
    "        \n",
    "    accuracy = df[\"classification_correct\"].mean()\n",
    "        \n",
    "    return accuracy"
   ]
  },
  {
   "cell_type": "code",
   "execution_count": 202,
   "metadata": {},
   "outputs": [
    {
     "data": {
      "text/plain": [
       "0.8636363636363636"
      ]
     },
     "execution_count": 202,
     "metadata": {},
     "output_type": "execute_result"
    }
   ],
   "source": [
    "accuracy = calculate_accuracy(test_df, tree)\n",
    "accuracy"
   ]
  },
  {
   "cell_type": "code",
   "execution_count": null,
   "metadata": {},
   "outputs": [],
   "source": []
  }
 ],
 "metadata": {
  "kernelspec": {
   "display_name": "base",
   "language": "python",
   "name": "python3"
  },
  "language_info": {
   "codemirror_mode": {
    "name": "ipython",
    "version": 3
   },
   "file_extension": ".py",
   "mimetype": "text/x-python",
   "name": "python",
   "nbconvert_exporter": "python",
   "pygments_lexer": "ipython3",
   "version": "3.11.4"
  }
 },
 "nbformat": 4,
 "nbformat_minor": 2
}
